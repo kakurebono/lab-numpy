{
 "cells": [
  {
   "cell_type": "markdown",
   "metadata": {},
   "source": [
    "# Intrduction to NumPy\n",
    "\n",
    "\n",
    "#### 1. Import NumPy under the name np."
   ]
  },
  {
   "cell_type": "code",
   "execution_count": 1,
   "metadata": {},
   "outputs": [],
   "source": [
    "import numpy as np"
   ]
  },
  {
   "cell_type": "markdown",
   "metadata": {},
   "source": [
    "#### 2. Print your NumPy version."
   ]
  },
  {
   "cell_type": "code",
   "execution_count": 3,
   "metadata": {},
   "outputs": [
    {
     "name": "stdout",
     "output_type": "stream",
     "text": [
      "1.18.5\n"
     ]
    }
   ],
   "source": [
    "print(np.__version__)"
   ]
  },
  {
   "cell_type": "markdown",
   "metadata": {},
   "source": [
    "#### 3. Generate a 2x3x5 3-dimensional array with random values. Assign the array to variable *a*.\n",
    "**Challenge**: there are at least three easy ways that use numpy to generate random arrays. How many ways can you find?"
   ]
  },
  {
   "cell_type": "code",
   "execution_count": 6,
   "metadata": {},
   "outputs": [
    {
     "name": "stdout",
     "output_type": "stream",
     "text": [
      "[[[0.53864154 0.6017714  0.28425122 0.93047736 0.47872011]\n",
      "  [0.27654207 0.83996945 0.64055198 0.93221309 0.58726402]\n",
      "  [0.06197892 0.24952469 0.73745859 0.50586473 0.7286871 ]]\n",
      "\n",
      " [[0.71240671 0.23771719 0.50872076 0.54896707 0.5884414 ]\n",
      "  [0.25608926 0.8144551  0.85585448 0.95526639 0.40330172]\n",
      "  [0.8413931  0.73679119 0.01845096 0.94196781 0.54145699]]]\n"
     ]
    }
   ],
   "source": [
    "a = np.random.random([2, 3, 5,])\n",
    "a.shape\n",
    "print(a)"
   ]
  },
  {
   "cell_type": "code",
   "execution_count": 5,
   "metadata": {},
   "outputs": [
    {
     "name": "stdout",
     "output_type": "stream",
     "text": [
      "[[[0.20000159 0.05935398 0.67163964 0.45219532 0.53666398]\n",
      "  [0.9521407  0.24465249 0.8477939  0.71663435 0.39884451]\n",
      "  [0.42293588 0.21317754 0.25801803 0.70728286 0.91355285]]\n",
      "\n",
      " [[0.52079219 0.23061496 0.60547326 0.57341797 0.62022755]\n",
      "  [0.2464395  0.58668045 0.39778334 0.39411693 0.15228707]\n",
      "  [0.23531317 0.22463215 0.91454869 0.96047801 0.76211639]]]\n"
     ]
    }
   ],
   "source": [
    "from numpy import random\n",
    "\n",
    "x = random.rand(2, 3, 5)\n",
    "\n",
    "print(x)"
   ]
  },
  {
   "cell_type": "code",
   "execution_count": 13,
   "metadata": {},
   "outputs": [
    {
     "name": "stdout",
     "output_type": "stream",
     "text": [
      "[[[0.24311777 0.24311777 0.24311777 0.24311777 0.24311777]\n",
      "  [0.24311777 0.24311777 0.24311777 0.24311777 0.24311777]\n",
      "  [0.24311777 0.24311777 0.24311777 0.24311777 0.24311777]]\n",
      "\n",
      " [[0.24311777 0.24311777 0.24311777 0.24311777 0.24311777]\n",
      "  [0.24311777 0.24311777 0.24311777 0.24311777 0.24311777]\n",
      "  [0.24311777 0.24311777 0.24311777 0.24311777 0.24311777]]]\n"
     ]
    }
   ],
   "source": [
    "u = np.full((2,3,5), np.random.random())\n",
    "print(u)"
   ]
  },
  {
   "cell_type": "markdown",
   "metadata": {},
   "source": [
    "#### 4. Print *a*.\n"
   ]
  },
  {
   "cell_type": "code",
   "execution_count": 14,
   "metadata": {},
   "outputs": [
    {
     "name": "stdout",
     "output_type": "stream",
     "text": [
      "[[[0.53864154 0.6017714  0.28425122 0.93047736 0.47872011]\n",
      "  [0.27654207 0.83996945 0.64055198 0.93221309 0.58726402]\n",
      "  [0.06197892 0.24952469 0.73745859 0.50586473 0.7286871 ]]\n",
      "\n",
      " [[0.71240671 0.23771719 0.50872076 0.54896707 0.5884414 ]\n",
      "  [0.25608926 0.8144551  0.85585448 0.95526639 0.40330172]\n",
      "  [0.8413931  0.73679119 0.01845096 0.94196781 0.54145699]]]\n"
     ]
    }
   ],
   "source": [
    "print(a)"
   ]
  },
  {
   "cell_type": "markdown",
   "metadata": {},
   "source": [
    "#### 5. Create a 5x2x3 3-dimensional array with all values equaling 1. Assign the array to variable *b*."
   ]
  },
  {
   "cell_type": "code",
   "execution_count": 20,
   "metadata": {},
   "outputs": [],
   "source": [
    "b = random.choice([1], size=(5,2,3))"
   ]
  },
  {
   "cell_type": "markdown",
   "metadata": {},
   "source": [
    "#### 6. Print *b*.\n"
   ]
  },
  {
   "cell_type": "code",
   "execution_count": 21,
   "metadata": {},
   "outputs": [
    {
     "name": "stdout",
     "output_type": "stream",
     "text": [
      "[[[1 1 1]\n",
      "  [1 1 1]]\n",
      "\n",
      " [[1 1 1]\n",
      "  [1 1 1]]\n",
      "\n",
      " [[1 1 1]\n",
      "  [1 1 1]]\n",
      "\n",
      " [[1 1 1]\n",
      "  [1 1 1]]\n",
      "\n",
      " [[1 1 1]\n",
      "  [1 1 1]]]\n"
     ]
    }
   ],
   "source": [
    "print(b)"
   ]
  },
  {
   "cell_type": "markdown",
   "metadata": {},
   "source": [
    "#### 7. Do *a* and *b* have the same size? How do you prove that in Python code?"
   ]
  },
  {
   "cell_type": "code",
   "execution_count": 22,
   "metadata": {},
   "outputs": [
    {
     "name": "stdout",
     "output_type": "stream",
     "text": [
      "False\n"
     ]
    }
   ],
   "source": [
    "print(a.shape == b.shape)"
   ]
  },
  {
   "cell_type": "markdown",
   "metadata": {},
   "source": [
    "#### 8. Are you able to add *a* and *b*? Why or why not?\n"
   ]
  },
  {
   "cell_type": "code",
   "execution_count": 23,
   "metadata": {},
   "outputs": [
    {
     "ename": "ValueError",
     "evalue": "operands could not be broadcast together with shapes (2,3,5) (5,2,3) ",
     "output_type": "error",
     "traceback": [
      "\u001b[0;31m---------------------------------------------------------------------------\u001b[0m",
      "\u001b[0;31mValueError\u001b[0m                                Traceback (most recent call last)",
      "\u001b[0;32m<ipython-input-23-d5ce9f282037>\u001b[0m in \u001b[0;36m<module>\u001b[0;34m\u001b[0m\n\u001b[0;32m----> 1\u001b[0;31m \u001b[0mnp\u001b[0m\u001b[0;34m.\u001b[0m\u001b[0madd\u001b[0m\u001b[0;34m(\u001b[0m\u001b[0ma\u001b[0m\u001b[0;34m,\u001b[0m\u001b[0mb\u001b[0m\u001b[0;34m)\u001b[0m\u001b[0;34m\u001b[0m\u001b[0;34m\u001b[0m\u001b[0m\n\u001b[0m",
      "\u001b[0;31mValueError\u001b[0m: operands could not be broadcast together with shapes (2,3,5) (5,2,3) "
     ]
    }
   ],
   "source": [
    "np.add(a,b)\n",
    "#the shape of the two objects(?) are different"
   ]
  },
  {
   "cell_type": "markdown",
   "metadata": {},
   "source": [
    "#### 9. Transpose *b* so that it has the same structure of *a* (i.e. become a 2x3x5 array). Assign the transposed array to variable *c*."
   ]
  },
  {
   "cell_type": "code",
   "execution_count": 26,
   "metadata": {},
   "outputs": [],
   "source": [
    "c = np.transpose(b).reshape((2,3,5))"
   ]
  },
  {
   "cell_type": "markdown",
   "metadata": {},
   "source": [
    "#### 10. Try to add *a* and *c*. Now it should work. Assign the sum to variable *d*. But why does it work now?"
   ]
  },
  {
   "cell_type": "code",
   "execution_count": 33,
   "metadata": {},
   "outputs": [
    {
     "name": "stdout",
     "output_type": "stream",
     "text": [
      "[[[1.53864154 1.6017714  1.28425122 1.93047736 1.47872011]\n",
      "  [1.27654207 1.83996945 1.64055198 1.93221309 1.58726402]\n",
      "  [1.06197892 1.24952469 1.73745859 1.50586473 1.7286871 ]]\n",
      "\n",
      " [[1.71240671 1.23771719 1.50872076 1.54896707 1.5884414 ]\n",
      "  [1.25608926 1.8144551  1.85585448 1.95526639 1.40330172]\n",
      "  [1.8413931  1.73679119 1.01845096 1.94196781 1.54145699]]]\n"
     ]
    }
   ],
   "source": [
    "d = a + c\n",
    "#np.add(a,c)\n",
    "#d = np.sum([a,c])\n",
    "print(d)"
   ]
  },
  {
   "cell_type": "markdown",
   "metadata": {},
   "source": [
    "#### 11. Print *a* and *d*. Notice the difference and relation of the two array in terms of the values? Explain."
   ]
  },
  {
   "cell_type": "code",
   "execution_count": 34,
   "metadata": {},
   "outputs": [
    {
     "name": "stdout",
     "output_type": "stream",
     "text": [
      "[[[0.53864154 0.6017714  0.28425122 0.93047736 0.47872011]\n",
      "  [0.27654207 0.83996945 0.64055198 0.93221309 0.58726402]\n",
      "  [0.06197892 0.24952469 0.73745859 0.50586473 0.7286871 ]]\n",
      "\n",
      " [[0.71240671 0.23771719 0.50872076 0.54896707 0.5884414 ]\n",
      "  [0.25608926 0.8144551  0.85585448 0.95526639 0.40330172]\n",
      "  [0.8413931  0.73679119 0.01845096 0.94196781 0.54145699]]]\n",
      "[[[1.53864154 1.6017714  1.28425122 1.93047736 1.47872011]\n",
      "  [1.27654207 1.83996945 1.64055198 1.93221309 1.58726402]\n",
      "  [1.06197892 1.24952469 1.73745859 1.50586473 1.7286871 ]]\n",
      "\n",
      " [[1.71240671 1.23771719 1.50872076 1.54896707 1.5884414 ]\n",
      "  [1.25608926 1.8144551  1.85585448 1.95526639 1.40330172]\n",
      "  [1.8413931  1.73679119 1.01845096 1.94196781 1.54145699]]]\n"
     ]
    }
   ],
   "source": [
    "print(a)\n",
    "print(d)"
   ]
  },
  {
   "cell_type": "markdown",
   "metadata": {},
   "source": [
    "#### 12. Multiply *a* and *c*. Assign the result to *e*."
   ]
  },
  {
   "cell_type": "code",
   "execution_count": 35,
   "metadata": {},
   "outputs": [
    {
     "name": "stdout",
     "output_type": "stream",
     "text": [
      "[[[0.53864154 0.6017714  0.28425122 0.93047736 0.47872011]\n",
      "  [0.27654207 0.83996945 0.64055198 0.93221309 0.58726402]\n",
      "  [0.06197892 0.24952469 0.73745859 0.50586473 0.7286871 ]]\n",
      "\n",
      " [[0.71240671 0.23771719 0.50872076 0.54896707 0.5884414 ]\n",
      "  [0.25608926 0.8144551  0.85585448 0.95526639 0.40330172]\n",
      "  [0.8413931  0.73679119 0.01845096 0.94196781 0.54145699]]]\n"
     ]
    }
   ],
   "source": [
    "e = a*c\n",
    "print(e)"
   ]
  },
  {
   "cell_type": "markdown",
   "metadata": {},
   "source": [
    "#### 13. Does *e* equal to *a*? Why or why not?\n"
   ]
  },
  {
   "cell_type": "code",
   "execution_count": 40,
   "metadata": {},
   "outputs": [
    {
     "data": {
      "text/plain": [
       "array([[[ True,  True,  True,  True,  True],\n",
       "        [ True,  True,  True,  True,  True],\n",
       "        [ True,  True,  True,  True,  True]],\n",
       "\n",
       "       [[ True,  True,  True,  True,  True],\n",
       "        [ True,  True,  True,  True,  True],\n",
       "        [ True,  True,  True,  True,  True]]])"
      ]
     },
     "execution_count": 40,
     "metadata": {},
     "output_type": "execute_result"
    }
   ],
   "source": [
    "e == a"
   ]
  },
  {
   "cell_type": "markdown",
   "metadata": {},
   "source": [
    "#### 14. Identify the max, min, and mean values in *d*. Assign those values to variables *d_max*, *d_min* and *d_mean*."
   ]
  },
  {
   "cell_type": "code",
   "execution_count": 44,
   "metadata": {},
   "outputs": [
    {
     "name": "stdout",
     "output_type": "stream",
     "text": [
      "1.9552663913919548\n",
      "1.0184509602550325\n",
      "1.578506547286588\n"
     ]
    }
   ],
   "source": [
    "d_max = np.amax(d)\n",
    "d_min = np.amin(d)\n",
    "d_mean = np.mean(d)\n",
    "print(d_max)\n",
    "print(d_min)\n",
    "print(d_mean)"
   ]
  },
  {
   "cell_type": "markdown",
   "metadata": {},
   "source": [
    "#### 15. Now we want to label the values in *d*. First create an empty array *f* with the same shape (i.e. 2x3x5) as *d* using `np.empty`.\n"
   ]
  },
  {
   "cell_type": "code",
   "execution_count": 45,
   "metadata": {},
   "outputs": [],
   "source": [
    "f = np.empty([2, 3, 5,])"
   ]
  },
  {
   "cell_type": "markdown",
   "metadata": {},
   "source": [
    "#### 16. Populate the values in *f*. \n",
    "\n",
    "For each value in *d*, if it's larger than *d_min* but smaller than *d_mean*, assign 25 to the corresponding value in *f*. If a value in *d* is larger than *d_mean* but smaller than *d_max*, assign 75 to the corresponding value in *f*. If a value equals to *d_mean*, assign 50 to the corresponding value in *f*. Assign 0 to the corresponding value(s) in *f* for *d_min* in *d*. Assign 100 to the corresponding value(s) in *f* for *d_max* in *d*. In the end, f should have only the following values: 0, 25, 50, 75, and 100.\n",
    "\n",
    "**Note**: you don't have to use Numpy in this question."
   ]
  },
  {
   "cell_type": "code",
   "execution_count": 46,
   "metadata": {},
   "outputs": [],
   "source": [
    "# for i in d:\n",
    "#     if d_max == d:\n",
    "#         i == 100\n",
    "import numpy as np"
   ]
  },
  {
   "cell_type": "code",
   "execution_count": 48,
   "metadata": {},
   "outputs": [
    {
     "name": "stdout",
     "output_type": "stream",
     "text": [
      "[[[1.53864154 1.6017714  1.28425122 1.93047736 1.47872011]\n",
      "  [1.27654207 1.83996945 1.64055198 1.93221309 1.58726402]\n",
      "  [1.06197892 1.24952469 1.73745859 1.50586473 1.7286871 ]]\n",
      "\n",
      " [[1.71240671 1.23771719 1.50872076 1.54896707 1.5884414 ]\n",
      "  [1.25608926 1.8144551  1.85585448 1.95526639 1.40330172]\n",
      "  [1.8413931  1.73679119 1.01845096 1.94196781 1.54145699]]]\n",
      "[[[ 25.  75.  25.  75.  25.]\n",
      "  [ 25.  75.  75.  75.  75.]\n",
      "  [ 25.  25.  75.  25.  75.]]\n",
      "\n",
      " [[ 75.  25.  25.  25.  75.]\n",
      "  [ 25.  75.  75. 100.  25.]\n",
      "  [ 75.  75.   0.  75.  25.]]]\n"
     ]
    }
   ],
   "source": [
    "f = np.where(d == d_max, 100, d)\n",
    "f = np.where(d < d_max, 75, f)\n",
    "f = np.where(d == d_mean, 50, f)\n",
    "f = np.where(d < d_mean, 25, f)\n",
    "f = np.where(d == d_min, 0, f)\n",
    "print(d)\n",
    "print(f)"
   ]
  },
  {
   "cell_type": "markdown",
   "metadata": {},
   "source": [
    "#### 17. Print *d* and *f*. Do you have your expected *f*?\n",
    "For instance, if your *d* is:\n",
    "```python\n",
    "[[[1.85836099, 1.67064465, 1.62576044, 1.40243961, 1.88454931],\n",
    "[1.75354326, 1.69403643, 1.36729252, 1.61415071, 1.12104981],\n",
    "[1.72201435, 1.1862918 , 1.87078449, 1.7726778 , 1.88180042]],\n",
    "[[1.44747908, 1.31673383, 1.02000951, 1.52218947, 1.97066381],\n",
    "[1.79129243, 1.74983003, 1.96028037, 1.85166831, 1.65450881],\n",
    "[1.18068344, 1.9587381 , 1.00656599, 1.93402165, 1.73514584]]]\n",
    "```\n",
    "Your *f* should be:\n",
    "```python\n",
    "[[[ 75.,  75.,  75.,  25.,  75.],\n",
    "[ 75.,  75.,  25.,  25.,  25.],\n",
    "[ 75.,  25.,  75.,  75.,  75.]],\n",
    "[[ 25.,  25.,  25.,  25., 100.],\n",
    "[ 75.,  75.,  75.,  75.,  75.],\n",
    "[ 25.,  75.,   0.,  75.,  75.]]]\n",
    "```"
   ]
  },
  {
   "cell_type": "code",
   "execution_count": null,
   "metadata": {},
   "outputs": [],
   "source": [
    "# your code here"
   ]
  },
  {
   "cell_type": "markdown",
   "metadata": {},
   "source": [
    "#### 18. Bonus question: instead of using numbers (i.e. 0, 25, 50, 75, and 100), use string values  (\"A\", \"B\", \"C\", \"D\", and \"E\") to label the array elements. For the example above, the expected result is:\n",
    "\n",
    "```python\n",
    "[[[ 'D',  'D',  'D',  'B',  'D'],\n",
    "[ 'D',  'D',  'B',  'B',  'B'],\n",
    "[ 'D',  'B',  'D',  'D',  'D']],\n",
    "[[ 'B',  'B',  'B',  'B',  'E'],\n",
    "[ 'D',  'D',  'D',  'D',  'D'],\n",
    "[ 'B',  'D',   'A',  'D', 'D']]]\n",
    "```\n",
    "**Note**: you don't have to use Numpy in this question."
   ]
  },
  {
   "cell_type": "code",
   "execution_count": null,
   "metadata": {},
   "outputs": [],
   "source": [
    "# your code here"
   ]
  }
 ],
 "metadata": {
  "kernelspec": {
   "display_name": "Python 3",
   "language": "python",
   "name": "python3"
  },
  "language_info": {
   "codemirror_mode": {
    "name": "ipython",
    "version": 3
   },
   "file_extension": ".py",
   "mimetype": "text/x-python",
   "name": "python",
   "nbconvert_exporter": "python",
   "pygments_lexer": "ipython3",
   "version": "3.8.3"
  }
 },
 "nbformat": 4,
 "nbformat_minor": 2
}
